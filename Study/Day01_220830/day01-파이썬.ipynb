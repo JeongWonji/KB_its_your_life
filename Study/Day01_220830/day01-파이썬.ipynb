{
 "cells": [
  {
   "cell_type": "code",
   "execution_count": 9,
   "id": "d1636366",
   "metadata": {
    "scrolled": true
   },
   "outputs": [
    {
     "data": {
      "text/plain": [
       "False"
      ]
     },
     "execution_count": 9,
     "metadata": {},
     "output_type": "execute_result"
    }
   ],
   "source": [
    "bool( -2 ) # True\n",
    "bool( None ) # False\n",
    "bool( 0 ) # False\n",
    "bool( 0.0 ) # False\n",
    "bool( [] ) # 빈 리스트 # False\n",
    "bool( set() ) # False\n",
    "bool( dict() ) # False\n",
    "bool( \"\" ) # 빈 문자열 # False\n",
    "bool( \" \" ) # 공백 문자열 # False"
   ]
  },
  {
   "cell_type": "code",
   "execution_count": 14,
   "id": "6ef86cbc",
   "metadata": {},
   "outputs": [
    {
     "data": {
      "text/plain": [
       "'구름에 \\n달가듯이 \\n가는 \\n나그네'"
      ]
     },
     "execution_count": 14,
     "metadata": {},
     "output_type": "execute_result"
    }
   ],
   "source": [
    "s1 = \"\"\"구름에 \n",
    "달가듯이 \n",
    "가는 \n",
    "나그네\"\"\"\n",
    "s1"
   ]
  },
  {
   "cell_type": "code",
   "execution_count": null,
   "id": "a6751200",
   "metadata": {},
   "outputs": [],
   "source": [
    "'''인덱싱 : 1개 추출\n",
    "슬라이싱 : 연속해서 여러개 추출\n",
    "[시작이상:끝미만]\n",
    "[:끝] -> 시작 생략시 0부터\n",
    "[시작:] -> 끝 생략시 끝까지\n",
    "[시작:끝:간격] 간격기본은 1\n",
    "[::-1] 문자열을 역순으로 추출'''"
   ]
  },
  {
   "cell_type": "code",
   "execution_count": 15,
   "id": "da4ce4b1",
   "metadata": {},
   "outputs": [
    {
     "data": {
      "text/plain": [
       "'yth'"
      ]
     },
     "execution_count": 15,
     "metadata": {},
     "output_type": "execute_result"
    }
   ],
   "source": [
    "\"python\"[1:4]"
   ]
  },
  {
   "cell_type": "code",
   "execution_count": 16,
   "id": "96edfb70",
   "metadata": {},
   "outputs": [
    {
     "data": {
      "text/plain": [
       "'pyth'"
      ]
     },
     "execution_count": 16,
     "metadata": {},
     "output_type": "execute_result"
    }
   ],
   "source": [
    "'python'[:4]"
   ]
  },
  {
   "cell_type": "code",
   "execution_count": 17,
   "id": "65d99c1c",
   "metadata": {},
   "outputs": [
    {
     "data": {
      "text/plain": [
       "'ython'"
      ]
     },
     "execution_count": 17,
     "metadata": {},
     "output_type": "execute_result"
    }
   ],
   "source": [
    "'python'[1:]"
   ]
  },
  {
   "cell_type": "code",
   "execution_count": 18,
   "id": "f28966bf",
   "metadata": {},
   "outputs": [
    {
     "data": {
      "text/plain": [
       "'pto'"
      ]
     },
     "execution_count": 18,
     "metadata": {},
     "output_type": "execute_result"
    }
   ],
   "source": [
    "'python'[0:6:2]"
   ]
  },
  {
   "cell_type": "code",
   "execution_count": 21,
   "id": "88b5b6ef",
   "metadata": {},
   "outputs": [
    {
     "data": {
      "text/plain": [
       "'pto'"
      ]
     },
     "execution_count": 21,
     "metadata": {},
     "output_type": "execute_result"
    }
   ],
   "source": [
    "'python'[0::2]"
   ]
  },
  {
   "cell_type": "code",
   "execution_count": 19,
   "id": "02b96597",
   "metadata": {},
   "outputs": [
    {
     "data": {
      "text/plain": [
       "'nohtyp'"
      ]
     },
     "execution_count": 19,
     "metadata": {},
     "output_type": "execute_result"
    }
   ],
   "source": [
    "'python'[::-1]"
   ]
  },
  {
   "cell_type": "code",
   "execution_count": 20,
   "id": "6a5467e7",
   "metadata": {},
   "outputs": [
    {
     "data": {
      "text/plain": [
       "'nhy'"
      ]
     },
     "execution_count": 20,
     "metadata": {},
     "output_type": "execute_result"
    }
   ],
   "source": [
    "'python'[::-2]"
   ]
  },
  {
   "cell_type": "code",
   "execution_count": null,
   "id": "1ca648d5",
   "metadata": {},
   "outputs": [],
   "source": []
  },
  {
   "cell_type": "code",
   "execution_count": 28,
   "id": "ac63c921",
   "metadata": {},
   "outputs": [
    {
     "name": "stdout",
     "output_type": "stream",
     "text": [
      "홍길동의 나이는 30\n"
     ]
    }
   ],
   "source": [
    "age = 30\n",
    "# \"홍길동의 나이는 \" + age #TypeError: can only concatenate str (not \"int\") to str\n",
    "print(f\"홍길동의 나이는 {age}\")"
   ]
  },
  {
   "cell_type": "code",
   "execution_count": 30,
   "id": "0df890df",
   "metadata": {},
   "outputs": [
    {
     "data": {
      "text/plain": [
       "'홍길동의 나이는 30'"
      ]
     },
     "execution_count": 30,
     "metadata": {},
     "output_type": "execute_result"
    }
   ],
   "source": [
    "\"홍길동의 나이는 \" + str(age)"
   ]
  },
  {
   "cell_type": "code",
   "execution_count": 32,
   "id": "9faa06a1",
   "metadata": {},
   "outputs": [
    {
     "data": {
      "text/plain": [
       "'홍길동 나이는 30'"
      ]
     },
     "execution_count": 32,
     "metadata": {},
     "output_type": "execute_result"
    }
   ],
   "source": [
    "# 문자열 포맷팅 3가지(출력 형식 정하기)\n",
    "\n",
    "# 1.   %\n",
    "name = \"홍길동\"\n",
    "\"홍길동 나이는 %d\" % (age)"
   ]
  },
  {
   "cell_type": "code",
   "execution_count": 33,
   "id": "3b8a3301",
   "metadata": {},
   "outputs": [
    {
     "data": {
      "text/plain": [
       "'홍길동 나이는 30'"
      ]
     },
     "execution_count": 33,
     "metadata": {},
     "output_type": "execute_result"
    }
   ],
   "source": [
    "\"%s 나이는 %d\" % (name, age)"
   ]
  },
  {
   "cell_type": "code",
   "execution_count": 35,
   "id": "232087f2",
   "metadata": {},
   "outputs": [
    {
     "data": {
      "text/plain": [
       "'30 나이는 홍길동'"
      ]
     },
     "execution_count": 35,
     "metadata": {},
     "output_type": "execute_result"
    }
   ],
   "source": [
    "# 2.    str.format\n",
    "\"{} 나이는 {}\".format(name,age)\n",
    "#'홍길동 나이는 30'\n",
    "\n",
    "#palce holder = 치환대상 (place holder:{})\n",
    "\n",
    "\"{1} 나이는 {0}\".format(name,age)\n",
    "#''30 나이는 홍길동'"
   ]
  },
  {
   "cell_type": "code",
   "execution_count": 39,
   "id": "97071e29",
   "metadata": {},
   "outputs": [
    {
     "data": {
      "text/plain": [
       "'홍길동 나이는 30, 태어난 연도는 1992년'"
      ]
     },
     "execution_count": 39,
     "metadata": {},
     "output_type": "execute_result"
    }
   ],
   "source": [
    "#3.    f-string. 파이썬3.6이상에선ㄴㄴ 사용가능\n",
    "f\"{name} 나이는 {age}, 태어난 연도는 {2022 - age}년\"\n",
    "#함수호출에서 return값이 있는 함수는 호출 가능 (사칙연산을 하는 함수호출 가능)"
   ]
  },
  {
   "cell_type": "code",
   "execution_count": 41,
   "id": "9c84f68b",
   "metadata": {},
   "outputs": [
    {
     "data": {
      "text/plain": [
       "['A', 'B', 'C', 'D']"
      ]
     },
     "execution_count": 41,
     "metadata": {},
     "output_type": "execute_result"
    }
   ],
   "source": [
    "# 문자열을 구분자 기준으로 분할, 리스트 반환\n",
    "\n",
    "arr = 'A:B:C:D'.split(\":\")\n",
    "arr"
   ]
  },
  {
   "cell_type": "code",
   "execution_count": 42,
   "id": "1860323b",
   "metadata": {},
   "outputs": [
    {
     "data": {
      "text/plain": [
       "'A--B--C--D'"
      ]
     },
     "execution_count": 42,
     "metadata": {},
     "output_type": "execute_result"
    }
   ],
   "source": [
    "# 리스트를 구분자로 연결한 문자열로 생성\n",
    "\"--\".join(arr)"
   ]
  },
  {
   "cell_type": "code",
   "execution_count": 43,
   "id": "e27cc743",
   "metadata": {},
   "outputs": [
    {
     "ename": "TypeError",
     "evalue": "sequence item 0: expected str instance, int found",
     "output_type": "error",
     "traceback": [
      "\u001b[1;31m---------------------------------------------------------------------------\u001b[0m",
      "\u001b[1;31mTypeError\u001b[0m                                 Traceback (most recent call last)",
      "Input \u001b[1;32mIn [43]\u001b[0m, in \u001b[0;36m<cell line: 3>\u001b[1;34m()\u001b[0m\n\u001b[0;32m      1\u001b[0m \u001b[38;5;66;03m#숫자가 들어있는 리스트를 조인하면 오류 발생\u001b[39;00m\n\u001b[0;32m      2\u001b[0m arr \u001b[38;5;241m=\u001b[39m [\u001b[38;5;241m1\u001b[39m,\u001b[38;5;241m3\u001b[39m,\u001b[38;5;241m5\u001b[39m]\n\u001b[1;32m----> 3\u001b[0m \u001b[38;5;124;43m\"\u001b[39;49m\u001b[38;5;124;43m--\u001b[39;49m\u001b[38;5;124;43m\"\u001b[39;49m\u001b[38;5;241;43m.\u001b[39;49m\u001b[43mjoin\u001b[49m\u001b[43m(\u001b[49m\u001b[43marr\u001b[49m\u001b[43m)\u001b[49m\n",
      "\u001b[1;31mTypeError\u001b[0m: sequence item 0: expected str instance, int found"
     ]
    }
   ],
   "source": [
    "#숫자가 들어있는 리스트를 조인하면 오류 발생\n",
    "arr = [1,3,5]\n",
    "\"--\".join(arr)\n",
    "# TypeError: sequence item 0: expected str instance, int found\n",
    "# sequence : 문자열과 리스트 (순번을 이용함)"
   ]
  },
  {
   "cell_type": "code",
   "execution_count": 47,
   "id": "0e1a8238",
   "metadata": {},
   "outputs": [
    {
     "name": "stdout",
     "output_type": "stream",
     "text": [
      "나이를 입력하세요 30\n"
     ]
    }
   ],
   "source": [
    "# input(prompt='문자열')\n",
    "# 문자열로 인식. 숫자 넣어도 문자열로 인식\n",
    "\n",
    "ans = input(\"나이를 입력하세요 \")"
   ]
  },
  {
   "cell_type": "code",
   "execution_count": 48,
   "id": "923869e9",
   "metadata": {},
   "outputs": [
    {
     "ename": "TypeError",
     "evalue": "unsupported operand type(s) for -: 'int' and 'str'",
     "output_type": "error",
     "traceback": [
      "\u001b[1;31m---------------------------------------------------------------------------\u001b[0m",
      "\u001b[1;31mTypeError\u001b[0m                                 Traceback (most recent call last)",
      "Input \u001b[1;32mIn [48]\u001b[0m, in \u001b[0;36m<cell line: 1>\u001b[1;34m()\u001b[0m\n\u001b[1;32m----> 1\u001b[0m \u001b[38;5;241;43m2022\u001b[39;49m\u001b[43m \u001b[49m\u001b[38;5;241;43m-\u001b[39;49m\u001b[43m \u001b[49m\u001b[43mans\u001b[49m\n",
      "\u001b[1;31mTypeError\u001b[0m: unsupported operand type(s) for -: 'int' and 'str'"
     ]
    }
   ],
   "source": [
    "2022 - ans\n",
    "# TypeError: unsupported operand type(s) for -: 'int' and 'str'"
   ]
  },
  {
   "cell_type": "code",
   "execution_count": 49,
   "id": "1e4bf611",
   "metadata": {},
   "outputs": [
    {
     "data": {
      "text/plain": [
       "1992"
      ]
     },
     "execution_count": 49,
     "metadata": {},
     "output_type": "execute_result"
    }
   ],
   "source": [
    "2022 - int(ans)"
   ]
  },
  {
   "cell_type": "code",
   "execution_count": 50,
   "id": "8a32abd1",
   "metadata": {},
   "outputs": [
    {
     "data": {
      "text/plain": [
       "'나이가 30이면 태어난 해는 1992년 이네요'"
      ]
     },
     "execution_count": 50,
     "metadata": {},
     "output_type": "execute_result"
    }
   ],
   "source": [
    "f\"나이가 {ans}이면 태어난 해는 {2022 - int(ans)}년 이네요\""
   ]
  },
  {
   "cell_type": "code",
   "execution_count": null,
   "id": "b45ac74f",
   "metadata": {},
   "outputs": [],
   "source": [
    "'''HDD (SDD 아님) : seek time 60ms(60/1000초)\n",
    "DRAM(메인메모리) seek time : 60ns(60/1e-9)\n",
    "둘사이 차이가 100만배 남'''"
   ]
  },
  {
   "cell_type": "code",
   "execution_count": 52,
   "id": "f11b6242",
   "metadata": {},
   "outputs": [
    {
     "data": {
      "text/plain": [
       "4"
      ]
     },
     "execution_count": 52,
     "metadata": {},
     "output_type": "execute_result"
    }
   ],
   "source": [
    "mylist = [1,3,5,7]\n",
    "len(mylist)"
   ]
  },
  {
   "cell_type": "code",
   "execution_count": 57,
   "id": "bec10e66",
   "metadata": {},
   "outputs": [
    {
     "data": {
      "text/plain": [
       "[[1, 2], [3, 4], [5, 6]]"
      ]
     },
     "execution_count": 57,
     "metadata": {},
     "output_type": "execute_result"
    }
   ],
   "source": [
    "mylist = [1,3,5] # 1, 3, 5 -> item(항목)이라 부름 -> 저장된 값 임 -> 1차원\n",
    "mylist = [ [1,2], [3,4], [5,6] ] # 2차원\n",
    "# 행(row), 열(col)\n",
    "mylist"
   ]
  },
  {
   "cell_type": "code",
   "execution_count": 55,
   "id": "e7a16ac8",
   "metadata": {},
   "outputs": [
    {
     "data": {
      "text/plain": [
       "[1, 2]"
      ]
     },
     "execution_count": 55,
     "metadata": {},
     "output_type": "execute_result"
    }
   ],
   "source": [
    "mylist[0] # 0god [1,2]"
   ]
  },
  {
   "cell_type": "code",
   "execution_count": 58,
   "id": "52c3878a",
   "metadata": {},
   "outputs": [
    {
     "name": "stdout",
     "output_type": "stream",
     "text": [
      "[1, 2]\n",
      "[3, 4]\n",
      "[5, 6]\n"
     ]
    }
   ],
   "source": [
    "for m in mylist:\n",
    "    print(m)"
   ]
  },
  {
   "cell_type": "code",
   "execution_count": 60,
   "id": "5f2899ae",
   "metadata": {},
   "outputs": [
    {
     "data": {
      "text/plain": [
       "[1, 'c', 'd', 'e', 4]"
      ]
     },
     "execution_count": 60,
     "metadata": {},
     "output_type": "execute_result"
    }
   ],
   "source": [
    "#슬라이싱으로 가르키면 슬라이싱된 부분에 수정된 값이 들어감\n",
    "#item들이 하나하나 풀어져서 들어감\n",
    "\n",
    "a = [1,2,3]\n",
    "a[2] = 4\n",
    "a[1:2] = ['c','d','e']\n",
    "a"
   ]
  },
  {
   "cell_type": "code",
   "execution_count": 61,
   "id": "57a1a1e0",
   "metadata": {},
   "outputs": [
    {
     "data": {
      "text/plain": [
       "[1, ['c', 'd', 'e'], 'd', 'e', 4]"
      ]
     },
     "execution_count": 61,
     "metadata": {},
     "output_type": "execute_result"
    }
   ],
   "source": [
    "#인덱싱으로 가르키면 리스트 자체가 들어감\n",
    "\n",
    "a[1] = ['c','d','e']\n",
    "a"
   ]
  },
  {
   "cell_type": "code",
   "execution_count": null,
   "id": "a1a4549d",
   "metadata": {},
   "outputs": [],
   "source": [
    "#sort() : 정렬 (내림차순)\n",
    "#a.sort(reverse=True) (리스트 요소 반대 순서로 뒤집기)"
   ]
  },
  {
   "cell_type": "code",
   "execution_count": 62,
   "id": "c062b3f5",
   "metadata": {},
   "outputs": [
    {
     "data": {
      "text/plain": [
       "[1, 3, 5]"
      ]
     },
     "execution_count": 62,
     "metadata": {},
     "output_type": "execute_result"
    }
   ],
   "source": [
    "arr"
   ]
  },
  {
   "cell_type": "code",
   "execution_count": 63,
   "id": "a314eb0d",
   "metadata": {},
   "outputs": [
    {
     "data": {
      "text/plain": [
       "[5, 3, 1]"
      ]
     },
     "execution_count": 63,
     "metadata": {},
     "output_type": "execute_result"
    }
   ],
   "source": [
    "arr[::-1] #역순이된 리스트 생성, 반환. 원본수정 안함"
   ]
  },
  {
   "cell_type": "code",
   "execution_count": 64,
   "id": "2d72108b",
   "metadata": {},
   "outputs": [
    {
     "data": {
      "text/plain": [
       "[1, 3, 5]"
      ]
     },
     "execution_count": 64,
     "metadata": {},
     "output_type": "execute_result"
    }
   ],
   "source": [
    "arr"
   ]
  },
  {
   "cell_type": "code",
   "execution_count": 65,
   "id": "1feaadde",
   "metadata": {},
   "outputs": [
    {
     "data": {
      "text/plain": [
       "[5, 3, 1]"
      ]
     },
     "execution_count": 65,
     "metadata": {},
     "output_type": "execute_result"
    }
   ],
   "source": [
    "arr.reverse() #원본 리스트 역순\n",
    "arr"
   ]
  },
  {
   "cell_type": "code",
   "execution_count": 69,
   "id": "20c75959",
   "metadata": {},
   "outputs": [
    {
     "data": {
      "text/plain": [
       "['홍', '박', '이']"
      ]
     },
     "execution_count": 69,
     "metadata": {},
     "output_type": "execute_result"
    }
   ],
   "source": [
    "names = ['홍', '김', '박', '이']\n",
    "names.pop(1) #김 삭제\n",
    "names"
   ]
  },
  {
   "cell_type": "code",
   "execution_count": 66,
   "id": "3c2cff20",
   "metadata": {},
   "outputs": [
    {
     "data": {
      "text/plain": [
       "[1, 2, 3, 4, 5]"
      ]
     },
     "execution_count": 66,
     "metadata": {},
     "output_type": "execute_result"
    }
   ],
   "source": [
    "a = [1,2,3]\n",
    "a.extend([4,5])\n",
    "a"
   ]
  },
  {
   "cell_type": "code",
   "execution_count": 70,
   "id": "0c3b5283",
   "metadata": {},
   "outputs": [
    {
     "data": {
      "text/plain": [
       "[1, 3, 5, 4, 7, 9]"
      ]
     },
     "execution_count": 70,
     "metadata": {},
     "output_type": "execute_result"
    }
   ],
   "source": [
    "[1,3,5] + [4,7,9] #두 리스트의 항목이 더해진 새로운 리스트 반환"
   ]
  },
  {
   "cell_type": "code",
   "execution_count": 83,
   "id": "0689332c",
   "metadata": {},
   "outputs": [
    {
     "name": "stdout",
     "output_type": "stream",
     "text": [
      "{40, 44} [44, 40, 40]\n"
     ]
    }
   ],
   "source": [
    "#로또 번호 생성, 저장\n",
    "import random\n",
    "\n",
    "lotto_list = []\n",
    "lotto_set = set()\n",
    "\n",
    "num = random.randint(1,45) # 1 이상 45이하\n",
    "lotto_list.append(num)\n",
    "lotto_set.add(num)\n",
    "\n",
    "num = random.randint(1,45) # 1 이상 45이하\n",
    "lotto_list.append(num)\n",
    "lotto_set.add(num)\n",
    "\n",
    "num = random.randint(1,45) # 1 이상 45이하\n",
    "lotto_list.append(num)\n",
    "lotto_set.add(num)\n",
    "\n",
    "print(lotto_set, lotto_list)"
   ]
  },
  {
   "cell_type": "code",
   "execution_count": 84,
   "id": "fa11351d",
   "metadata": {},
   "outputs": [
    {
     "name": "stdout",
     "output_type": "stream",
     "text": [
      "2 X 1 = 2\n",
      "2 X 2 = 4\n",
      "2 X 3 = 6\n",
      "2 X 4 = 8\n",
      "2 X 5 = 10\n",
      "2 X 6 = 12\n",
      "2 X 7 = 14\n",
      "2 X 8 = 16\n",
      "2 X 9 = 18\n"
     ]
    }
   ],
   "source": [
    "# while문으로 2단 구구단 출력\n",
    "dan = 2\n",
    "n = 1\n",
    "while (n < 10):\n",
    "    print(f\"{dan} X {n} = {dan*n}\")\n",
    "    n += 1"
   ]
  },
  {
   "cell_type": "code",
   "execution_count": 1,
   "id": "06a39372",
   "metadata": {},
   "outputs": [
    {
     "name": "stdout",
     "output_type": "stream",
     "text": [
      "2 X 1 = 2\n",
      "2 X 2 = 4\n",
      "2 X 3 = 6\n",
      "2 X 4 = 8\n",
      "2 X 5 = 10\n",
      "2 X 6 = 12\n",
      "2 X 7 = 14\n",
      "2 X 8 = 16\n",
      "2 X 9 = 18\n"
     ]
    }
   ],
   "source": [
    "# for문으로 2단 구구단 출력\n",
    "dan = 2\n",
    "for i in range(1,10):\n",
    "    print(f\"{dan} X {i} = {dan*i}\")"
   ]
  },
  {
   "cell_type": "code",
   "execution_count": 2,
   "id": "bed0b3b1",
   "metadata": {},
   "outputs": [
    {
     "data": {
      "text/plain": [
       "[1, 2]"
      ]
     },
     "execution_count": 2,
     "metadata": {},
     "output_type": "execute_result"
    }
   ],
   "source": [
    "list(range(1,3)) #list로 감싸면 실제 숫자로 바꿔줌"
   ]
  },
  {
   "cell_type": "code",
   "execution_count": 3,
   "id": "4cad00d6",
   "metadata": {},
   "outputs": [
    {
     "name": "stdout",
     "output_type": "stream",
     "text": [
      "[1, 2, 3]\n",
      "1\n",
      "2\n",
      "3\n",
      "[4, 5, 6]\n",
      "4\n",
      "5\n",
      "6\n",
      "[7, 8, 9, 10]\n",
      "7\n",
      "8\n",
      "9\n",
      "10\n"
     ]
    }
   ],
   "source": [
    "arr3 = [[1,2,3], [4,5,6], [7,8,9,10]]\n",
    "for a in arr3:\n",
    "    print(a)\n",
    "    for aa in a:\n",
    "        print(aa)"
   ]
  },
  {
   "cell_type": "code",
   "execution_count": 7,
   "id": "c2a6ac82",
   "metadata": {},
   "outputs": [
    {
     "name": "stdout",
     "output_type": "stream",
     "text": [
      "평균 = 73.33333333333333\n"
     ]
    }
   ],
   "source": [
    "scores = [ \n",
    "    ['홍',70],\n",
    "    ['김',80],\n",
    "    ['박',70]\n",
    "        ]\n",
    "tot = 0\n",
    "#학생평균 계산\n",
    "for sc in scores:\n",
    "    tot += sc[1]\n",
    "print(\"평균 =\", tot/len(scores))"
   ]
  },
  {
   "cell_type": "code",
   "execution_count": 8,
   "id": "acd62507",
   "metadata": {},
   "outputs": [
    {
     "data": {
      "text/plain": [
       "['홀', '짝', '홀', '홀', '짝']"
      ]
     },
     "execution_count": 8,
     "metadata": {},
     "output_type": "execute_result"
    }
   ],
   "source": [
    "arr4 = [1,2,1,1,2]\n",
    "['짝' if i%2==0 else '홀' for i in arr4]"
   ]
  },
  {
   "cell_type": "code",
   "execution_count": 15,
   "id": "ce074d7e",
   "metadata": {},
   "outputs": [
    {
     "name": "stdout",
     "output_type": "stream",
     "text": [
      "9\n",
      "24\n"
     ]
    }
   ],
   "source": [
    "def calc_many(choice, *args):\n",
    "    if choice == \"sum\":\n",
    "        return sum(args)\n",
    "    elif choice == \"mul\":\n",
    "        tot = 1\n",
    "        for i in args:\n",
    "            tot *= i\n",
    "        return tot\n",
    "    \n",
    "print(calc_many(\"sum\", 1,3,5))\n",
    "print(calc_many(\"mul\", 3,2,4))"
   ]
  },
  {
   "cell_type": "code",
   "execution_count": null,
   "id": "49ac1304",
   "metadata": {},
   "outputs": [],
   "source": []
  },
  {
   "cell_type": "code",
   "execution_count": null,
   "id": "58a9a022",
   "metadata": {},
   "outputs": [],
   "source": []
  },
  {
   "cell_type": "code",
   "execution_count": null,
   "id": "5bcc3226",
   "metadata": {},
   "outputs": [],
   "source": []
  },
  {
   "cell_type": "code",
   "execution_count": null,
   "id": "f153e739",
   "metadata": {},
   "outputs": [],
   "source": []
  },
  {
   "cell_type": "code",
   "execution_count": null,
   "id": "6f695930",
   "metadata": {},
   "outputs": [],
   "source": []
  },
  {
   "cell_type": "code",
   "execution_count": null,
   "id": "cde971cd",
   "metadata": {},
   "outputs": [],
   "source": []
  },
  {
   "cell_type": "code",
   "execution_count": null,
   "id": "eaad8513",
   "metadata": {},
   "outputs": [],
   "source": []
  }
 ],
 "metadata": {
  "kernelspec": {
   "display_name": "Python 3 (ipykernel)",
   "language": "python",
   "name": "python3"
  },
  "language_info": {
   "codemirror_mode": {
    "name": "ipython",
    "version": 3
   },
   "file_extension": ".py",
   "mimetype": "text/x-python",
   "name": "python",
   "nbconvert_exporter": "python",
   "pygments_lexer": "ipython3",
   "version": "3.9.12"
  }
 },
 "nbformat": 4,
 "nbformat_minor": 5
}
