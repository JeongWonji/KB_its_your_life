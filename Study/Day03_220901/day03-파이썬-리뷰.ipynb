{
 "cells": [
  {
   "cell_type": "code",
   "execution_count": 3,
   "id": "594f6ef7",
   "metadata": {},
   "outputs": [
    {
     "name": "stdout",
     "output_type": "stream",
     "text": [
      "None\n"
     ]
    }
   ],
   "source": [
    "#파라미터 전달\n",
    "def my_prn():\n",
    "    a = 3\n",
    "\n",
    "ans = my_prn() # 반환값이 없는 함수호출. None반환\n",
    "\n",
    "print(ans)"
   ]
  },
  {
   "cell_type": "code",
   "execution_count": 4,
   "id": "5ffcb7e4",
   "metadata": {},
   "outputs": [
    {
     "ename": "TypeError",
     "evalue": "my_minus() got an unexpected keyword argument 'num3'",
     "output_type": "error",
     "traceback": [
      "\u001b[1;31m---------------------------------------------------------------------------\u001b[0m",
      "\u001b[1;31mTypeError\u001b[0m                                 Traceback (most recent call last)",
      "Input \u001b[1;32mIn [4]\u001b[0m, in \u001b[0;36m<cell line: 3>\u001b[1;34m()\u001b[0m\n\u001b[0;32m      1\u001b[0m \u001b[38;5;28;01mdef\u001b[39;00m \u001b[38;5;21mmy_minus\u001b[39m(num1, num2):\n\u001b[0;32m      2\u001b[0m     \u001b[38;5;28;01mreturn\u001b[39;00m num1 \u001b[38;5;241m-\u001b[39m num2\n\u001b[1;32m----> 3\u001b[0m \u001b[43mmy_minus\u001b[49m\u001b[43m(\u001b[49m\u001b[43mnum2\u001b[49m\u001b[38;5;241;43m=\u001b[39;49m\u001b[38;5;241;43m100\u001b[39;49m\u001b[43m,\u001b[49m\u001b[43m \u001b[49m\u001b[43mnum3\u001b[49m\u001b[38;5;241;43m=\u001b[39;49m\u001b[38;5;241;43m200\u001b[39;49m\u001b[43m)\u001b[49m\n",
      "\u001b[1;31mTypeError\u001b[0m: my_minus() got an unexpected keyword argument 'num3'"
     ]
    }
   ],
   "source": [
    "def my_minus(num1, num2):\n",
    "    return num1 - num2\n",
    "my_minus(num2=100, num3=200)"
   ]
  },
  {
   "cell_type": "code",
   "execution_count": 12,
   "id": "4a9103f8",
   "metadata": {},
   "outputs": [
    {
     "data": {
      "text/plain": [
       "12"
      ]
     },
     "execution_count": 12,
     "metadata": {},
     "output_type": "execute_result"
    }
   ],
   "source": [
    "def calc_many(choice, *args):\n",
    "    if choice == \"mul\":\n",
    "        ret = 1\n",
    "        for a in args:\n",
    "            ret *= a\n",
    "        return ret\n",
    "    elif choice == \"sum\":\n",
    "        return sum(args)\n",
    "\n",
    "calc_many(\"mul\", 3,5,7)\n",
    "calc_many(\"sum\", 2,4,6)\n"
   ]
  },
  {
   "cell_type": "code",
   "execution_count": 17,
   "id": "6356c73e",
   "metadata": {},
   "outputs": [
    {
     "data": {
      "text/plain": [
       "70.0"
      ]
     },
     "execution_count": 17,
     "metadata": {},
     "output_type": "execute_result"
    }
   ],
   "source": [
    "# 클래스 사용하지 않고 학생정보 관리\n",
    "\n",
    "names=['홍','김','박']\n",
    "eng_scores = [70,80,60]\n",
    "\n",
    "def calc_avg():\n",
    "    return sum(eng_scores) / len(names)\n",
    "\n",
    "calc_avg()"
   ]
  },
  {
   "cell_type": "code",
   "execution_count": 18,
   "id": "642d946c",
   "metadata": {},
   "outputs": [
    {
     "data": {
      "text/plain": [
       "70.0"
      ]
     },
     "execution_count": 18,
     "metadata": {},
     "output_type": "execute_result"
    }
   ],
   "source": [
    "# 클래스 사용하는 학생정보 관리\n",
    "\n",
    "class StudentManager():\n",
    "    def __init__(self):\n",
    "        self.names=['홍','김','박']\n",
    "        self.eng_scores = [70,80,60]\n",
    "        \n",
    "    def calc_avg(self):\n",
    "        return sum(self.eng_scores) / len(self.names)\n",
    "        \n",
    "sm = StudentManager() # 객체 생성\n",
    "sm.calc_avg()"
   ]
  },
  {
   "cell_type": "code",
   "execution_count": 21,
   "id": "36511475",
   "metadata": {},
   "outputs": [
    {
     "data": {
      "text/plain": [
       "3"
      ]
     },
     "execution_count": 21,
     "metadata": {},
     "output_type": "execute_result"
    }
   ],
   "source": [
    "import random \n",
    "random.randint(1,45) #1~45 난수 하나 생성"
   ]
  },
  {
   "cell_type": "code",
   "execution_count": 23,
   "id": "b5ff55f1",
   "metadata": {},
   "outputs": [
    {
     "data": {
      "text/plain": [
       "26"
      ]
     },
     "execution_count": 23,
     "metadata": {},
     "output_type": "execute_result"
    }
   ],
   "source": [
    "import random as rd #모듈명의 별명\n",
    "rd.randint(1,45)"
   ]
  },
  {
   "cell_type": "code",
   "execution_count": 24,
   "id": "974ec6b3",
   "metadata": {},
   "outputs": [
    {
     "data": {
      "text/plain": [
       "10"
      ]
     },
     "execution_count": 24,
     "metadata": {},
     "output_type": "execute_result"
    }
   ],
   "source": [
    "from random import randint #모듈 내 함수만 로딩\n",
    "randint(1,45) #모듈명 없이 함수명만 사용"
   ]
  },
  {
   "cell_type": "code",
   "execution_count": 25,
   "id": "e9602450",
   "metadata": {},
   "outputs": [
    {
     "data": {
      "text/plain": [
       "19"
      ]
     },
     "execution_count": 25,
     "metadata": {},
     "output_type": "execute_result"
    }
   ],
   "source": [
    "from random import randint as rdi #모듈내 함수에 별명 정의\n",
    "rdi(1,45)"
   ]
  },
  {
   "cell_type": "code",
   "execution_count": 45,
   "id": "fb9efc52",
   "metadata": {},
   "outputs": [
    {
     "name": "stdout",
     "output_type": "stream",
     "text": [
      "None\n"
     ]
    }
   ],
   "source": [
    "from bs4 import BeautifulSoup   \n",
    "import requests\n",
    "import urllib.request\n",
    "import urllib\n",
    "\n",
    "url = \"http://sonydslr.com/bbs/zboard.php?id=cool\"  \n",
    "\n",
    "res = requests.get(url)\n",
    "bs = BeautifulSoup(res.content, 'html.parser')\n",
    "\n",
    "img_src = bs.find('a','thumb_border')#.find_all('img')\n",
    "\n",
    "# img_list = [] \n",
    "# for j in img_src :\n",
    "#     img_src1 = j['src']\n",
    "#     img_list.append(img_src1)\n",
    "\n",
    "print(img_src)\n",
    "\n"
   ]
  },
  {
   "cell_type": "code",
   "execution_count": 43,
   "id": "cbbb41d3",
   "metadata": {},
   "outputs": [
    {
     "name": "stdout",
     "output_type": "stream",
     "text": [
      "[]\n"
     ]
    }
   ],
   "source": [
    "from bs4 import BeautifulSoup   \n",
    "import requests\n",
    "import urllib.request\n",
    "import urllib\n",
    "\n",
    "url = \"http://sonydslr.com/bbs/zboard.php?id=cool\"  \n",
    "\n",
    "res = requests.get(url)\n",
    "bs = BeautifulSoup(res.content, 'html.parser')\n",
    "\n",
    "img_src = bs.find_all(class_='_thumb_border')\n",
    "\n",
    "# img_list = [] \n",
    "# for j in img_src :\n",
    "#     img_src1 = j['src']\n",
    "#     img_list.append(img_src1)\n",
    "\n",
    "print(img_src)"
   ]
  },
  {
   "cell_type": "code",
   "execution_count": null,
   "id": "950aa71a",
   "metadata": {},
   "outputs": [],
   "source": [
    "<img src=\"data/cool/small_2814.thumb\" width=\"118\" height=\"160\" \n",
    "onfocus=\"blur()\" border=\"0\" \n",
    "class=\"thumb_border\">"
   ]
  },
  {
   "cell_type": "code",
   "execution_count": null,
   "id": "66858801",
   "metadata": {},
   "outputs": [],
   "source": [
    "from urllib.request import urlopen\n",
    "from bs4 import BeautifulSoup as bs\n",
    "from urllib.parse import quote_plus"
   ]
  },
  {
   "cell_type": "code",
   "execution_count": null,
   "id": "83a8fef0",
   "metadata": {},
   "outputs": [],
   "source": []
  }
 ],
 "metadata": {
  "kernelspec": {
   "display_name": "Python 3 (ipykernel)",
   "language": "python",
   "name": "python3"
  },
  "language_info": {
   "codemirror_mode": {
    "name": "ipython",
    "version": 3
   },
   "file_extension": ".py",
   "mimetype": "text/x-python",
   "name": "python",
   "nbconvert_exporter": "python",
   "pygments_lexer": "ipython3",
   "version": "3.9.12"
  }
 },
 "nbformat": 4,
 "nbformat_minor": 5
}
