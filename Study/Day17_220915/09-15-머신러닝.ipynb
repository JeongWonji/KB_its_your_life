{
 "cells": [
  {
   "cell_type": "markdown",
   "id": "555388e4",
   "metadata": {},
   "source": [
    "# p.18 데이터 세트 불러오기"
   ]
  },
  {
   "cell_type": "code",
   "execution_count": 1,
   "id": "536601cd",
   "metadata": {},
   "outputs": [
    {
     "data": {
      "text/plain": [
       "({'data': array([[5.1, 3.5, 1.4, 0.2],\n",
       "         [4.9, 3. , 1.4, 0.2],\n",
       "         [4.7, 3.2, 1.3, 0.2],\n",
       "         [4.6, 3.1, 1.5, 0.2],\n",
       "         [5. , 3.6, 1.4, 0.2],\n",
       "         [5.4, 3.9, 1.7, 0.4],\n",
       "         [4.6, 3.4, 1.4, 0.3],\n",
       "         [5. , 3.4, 1.5, 0.2],\n",
       "         [4.4, 2.9, 1.4, 0.2],\n",
       "         [4.9, 3.1, 1.5, 0.1],\n",
       "         [5.4, 3.7, 1.5, 0.2],\n",
       "         [4.8, 3.4, 1.6, 0.2],\n",
       "         [4.8, 3. , 1.4, 0.1],\n",
       "         [4.3, 3. , 1.1, 0.1],\n",
       "         [5.8, 4. , 1.2, 0.2],\n",
       "         [5.7, 4.4, 1.5, 0.4],\n",
       "         [5.4, 3.9, 1.3, 0.4],\n",
       "         [5.1, 3.5, 1.4, 0.3],\n",
       "         [5.7, 3.8, 1.7, 0.3],\n",
       "         [5.1, 3.8, 1.5, 0.3],\n",
       "         [5.4, 3.4, 1.7, 0.2],\n",
       "         [5.1, 3.7, 1.5, 0.4],\n",
       "         [4.6, 3.6, 1. , 0.2],\n",
       "         [5.1, 3.3, 1.7, 0.5],\n",
       "         [4.8, 3.4, 1.9, 0.2],\n",
       "         [5. , 3. , 1.6, 0.2],\n",
       "         [5. , 3.4, 1.6, 0.4],\n",
       "         [5.2, 3.5, 1.5, 0.2],\n",
       "         [5.2, 3.4, 1.4, 0.2],\n",
       "         [4.7, 3.2, 1.6, 0.2],\n",
       "         [4.8, 3.1, 1.6, 0.2],\n",
       "         [5.4, 3.4, 1.5, 0.4],\n",
       "         [5.2, 4.1, 1.5, 0.1],\n",
       "         [5.5, 4.2, 1.4, 0.2],\n",
       "         [4.9, 3.1, 1.5, 0.2],\n",
       "         [5. , 3.2, 1.2, 0.2],\n",
       "         [5.5, 3.5, 1.3, 0.2],\n",
       "         [4.9, 3.6, 1.4, 0.1],\n",
       "         [4.4, 3. , 1.3, 0.2],\n",
       "         [5.1, 3.4, 1.5, 0.2],\n",
       "         [5. , 3.5, 1.3, 0.3],\n",
       "         [4.5, 2.3, 1.3, 0.3],\n",
       "         [4.4, 3.2, 1.3, 0.2],\n",
       "         [5. , 3.5, 1.6, 0.6],\n",
       "         [5.1, 3.8, 1.9, 0.4],\n",
       "         [4.8, 3. , 1.4, 0.3],\n",
       "         [5.1, 3.8, 1.6, 0.2],\n",
       "         [4.6, 3.2, 1.4, 0.2],\n",
       "         [5.3, 3.7, 1.5, 0.2],\n",
       "         [5. , 3.3, 1.4, 0.2],\n",
       "         [7. , 3.2, 4.7, 1.4],\n",
       "         [6.4, 3.2, 4.5, 1.5],\n",
       "         [6.9, 3.1, 4.9, 1.5],\n",
       "         [5.5, 2.3, 4. , 1.3],\n",
       "         [6.5, 2.8, 4.6, 1.5],\n",
       "         [5.7, 2.8, 4.5, 1.3],\n",
       "         [6.3, 3.3, 4.7, 1.6],\n",
       "         [4.9, 2.4, 3.3, 1. ],\n",
       "         [6.6, 2.9, 4.6, 1.3],\n",
       "         [5.2, 2.7, 3.9, 1.4],\n",
       "         [5. , 2. , 3.5, 1. ],\n",
       "         [5.9, 3. , 4.2, 1.5],\n",
       "         [6. , 2.2, 4. , 1. ],\n",
       "         [6.1, 2.9, 4.7, 1.4],\n",
       "         [5.6, 2.9, 3.6, 1.3],\n",
       "         [6.7, 3.1, 4.4, 1.4],\n",
       "         [5.6, 3. , 4.5, 1.5],\n",
       "         [5.8, 2.7, 4.1, 1. ],\n",
       "         [6.2, 2.2, 4.5, 1.5],\n",
       "         [5.6, 2.5, 3.9, 1.1],\n",
       "         [5.9, 3.2, 4.8, 1.8],\n",
       "         [6.1, 2.8, 4. , 1.3],\n",
       "         [6.3, 2.5, 4.9, 1.5],\n",
       "         [6.1, 2.8, 4.7, 1.2],\n",
       "         [6.4, 2.9, 4.3, 1.3],\n",
       "         [6.6, 3. , 4.4, 1.4],\n",
       "         [6.8, 2.8, 4.8, 1.4],\n",
       "         [6.7, 3. , 5. , 1.7],\n",
       "         [6. , 2.9, 4.5, 1.5],\n",
       "         [5.7, 2.6, 3.5, 1. ],\n",
       "         [5.5, 2.4, 3.8, 1.1],\n",
       "         [5.5, 2.4, 3.7, 1. ],\n",
       "         [5.8, 2.7, 3.9, 1.2],\n",
       "         [6. , 2.7, 5.1, 1.6],\n",
       "         [5.4, 3. , 4.5, 1.5],\n",
       "         [6. , 3.4, 4.5, 1.6],\n",
       "         [6.7, 3.1, 4.7, 1.5],\n",
       "         [6.3, 2.3, 4.4, 1.3],\n",
       "         [5.6, 3. , 4.1, 1.3],\n",
       "         [5.5, 2.5, 4. , 1.3],\n",
       "         [5.5, 2.6, 4.4, 1.2],\n",
       "         [6.1, 3. , 4.6, 1.4],\n",
       "         [5.8, 2.6, 4. , 1.2],\n",
       "         [5. , 2.3, 3.3, 1. ],\n",
       "         [5.6, 2.7, 4.2, 1.3],\n",
       "         [5.7, 3. , 4.2, 1.2],\n",
       "         [5.7, 2.9, 4.2, 1.3],\n",
       "         [6.2, 2.9, 4.3, 1.3],\n",
       "         [5.1, 2.5, 3. , 1.1],\n",
       "         [5.7, 2.8, 4.1, 1.3],\n",
       "         [6.3, 3.3, 6. , 2.5],\n",
       "         [5.8, 2.7, 5.1, 1.9],\n",
       "         [7.1, 3. , 5.9, 2.1],\n",
       "         [6.3, 2.9, 5.6, 1.8],\n",
       "         [6.5, 3. , 5.8, 2.2],\n",
       "         [7.6, 3. , 6.6, 2.1],\n",
       "         [4.9, 2.5, 4.5, 1.7],\n",
       "         [7.3, 2.9, 6.3, 1.8],\n",
       "         [6.7, 2.5, 5.8, 1.8],\n",
       "         [7.2, 3.6, 6.1, 2.5],\n",
       "         [6.5, 3.2, 5.1, 2. ],\n",
       "         [6.4, 2.7, 5.3, 1.9],\n",
       "         [6.8, 3. , 5.5, 2.1],\n",
       "         [5.7, 2.5, 5. , 2. ],\n",
       "         [5.8, 2.8, 5.1, 2.4],\n",
       "         [6.4, 3.2, 5.3, 2.3],\n",
       "         [6.5, 3. , 5.5, 1.8],\n",
       "         [7.7, 3.8, 6.7, 2.2],\n",
       "         [7.7, 2.6, 6.9, 2.3],\n",
       "         [6. , 2.2, 5. , 1.5],\n",
       "         [6.9, 3.2, 5.7, 2.3],\n",
       "         [5.6, 2.8, 4.9, 2. ],\n",
       "         [7.7, 2.8, 6.7, 2. ],\n",
       "         [6.3, 2.7, 4.9, 1.8],\n",
       "         [6.7, 3.3, 5.7, 2.1],\n",
       "         [7.2, 3.2, 6. , 1.8],\n",
       "         [6.2, 2.8, 4.8, 1.8],\n",
       "         [6.1, 3. , 4.9, 1.8],\n",
       "         [6.4, 2.8, 5.6, 2.1],\n",
       "         [7.2, 3. , 5.8, 1.6],\n",
       "         [7.4, 2.8, 6.1, 1.9],\n",
       "         [7.9, 3.8, 6.4, 2. ],\n",
       "         [6.4, 2.8, 5.6, 2.2],\n",
       "         [6.3, 2.8, 5.1, 1.5],\n",
       "         [6.1, 2.6, 5.6, 1.4],\n",
       "         [7.7, 3. , 6.1, 2.3],\n",
       "         [6.3, 3.4, 5.6, 2.4],\n",
       "         [6.4, 3.1, 5.5, 1.8],\n",
       "         [6. , 3. , 4.8, 1.8],\n",
       "         [6.9, 3.1, 5.4, 2.1],\n",
       "         [6.7, 3.1, 5.6, 2.4],\n",
       "         [6.9, 3.1, 5.1, 2.3],\n",
       "         [5.8, 2.7, 5.1, 1.9],\n",
       "         [6.8, 3.2, 5.9, 2.3],\n",
       "         [6.7, 3.3, 5.7, 2.5],\n",
       "         [6.7, 3. , 5.2, 2.3],\n",
       "         [6.3, 2.5, 5. , 1.9],\n",
       "         [6.5, 3. , 5.2, 2. ],\n",
       "         [6.2, 3.4, 5.4, 2.3],\n",
       "         [5.9, 3. , 5.1, 1.8]]),\n",
       "  'target': array([0, 0, 0, 0, 0, 0, 0, 0, 0, 0, 0, 0, 0, 0, 0, 0, 0, 0, 0, 0, 0, 0,\n",
       "         0, 0, 0, 0, 0, 0, 0, 0, 0, 0, 0, 0, 0, 0, 0, 0, 0, 0, 0, 0, 0, 0,\n",
       "         0, 0, 0, 0, 0, 0, 1, 1, 1, 1, 1, 1, 1, 1, 1, 1, 1, 1, 1, 1, 1, 1,\n",
       "         1, 1, 1, 1, 1, 1, 1, 1, 1, 1, 1, 1, 1, 1, 1, 1, 1, 1, 1, 1, 1, 1,\n",
       "         1, 1, 1, 1, 1, 1, 1, 1, 1, 1, 1, 1, 2, 2, 2, 2, 2, 2, 2, 2, 2, 2,\n",
       "         2, 2, 2, 2, 2, 2, 2, 2, 2, 2, 2, 2, 2, 2, 2, 2, 2, 2, 2, 2, 2, 2,\n",
       "         2, 2, 2, 2, 2, 2, 2, 2, 2, 2, 2, 2, 2, 2, 2, 2, 2, 2]),\n",
       "  'frame': None,\n",
       "  'target_names': array(['setosa', 'versicolor', 'virginica'], dtype='<U10'),\n",
       "  'DESCR': '.. _iris_dataset:\\n\\nIris plants dataset\\n--------------------\\n\\n**Data Set Characteristics:**\\n\\n    :Number of Instances: 150 (50 in each of three classes)\\n    :Number of Attributes: 4 numeric, predictive attributes and the class\\n    :Attribute Information:\\n        - sepal length in cm\\n        - sepal width in cm\\n        - petal length in cm\\n        - petal width in cm\\n        - class:\\n                - Iris-Setosa\\n                - Iris-Versicolour\\n                - Iris-Virginica\\n                \\n    :Summary Statistics:\\n\\n    ============== ==== ==== ======= ===== ====================\\n                    Min  Max   Mean    SD   Class Correlation\\n    ============== ==== ==== ======= ===== ====================\\n    sepal length:   4.3  7.9   5.84   0.83    0.7826\\n    sepal width:    2.0  4.4   3.05   0.43   -0.4194\\n    petal length:   1.0  6.9   3.76   1.76    0.9490  (high!)\\n    petal width:    0.1  2.5   1.20   0.76    0.9565  (high!)\\n    ============== ==== ==== ======= ===== ====================\\n\\n    :Missing Attribute Values: None\\n    :Class Distribution: 33.3% for each of 3 classes.\\n    :Creator: R.A. Fisher\\n    :Donor: Michael Marshall (MARSHALL%PLU@io.arc.nasa.gov)\\n    :Date: July, 1988\\n\\nThe famous Iris database, first used by Sir R.A. Fisher. The dataset is taken\\nfrom Fisher\\'s paper. Note that it\\'s the same as in R, but not as in the UCI\\nMachine Learning Repository, which has two wrong data points.\\n\\nThis is perhaps the best known database to be found in the\\npattern recognition literature.  Fisher\\'s paper is a classic in the field and\\nis referenced frequently to this day.  (See Duda & Hart, for example.)  The\\ndata set contains 3 classes of 50 instances each, where each class refers to a\\ntype of iris plant.  One class is linearly separable from the other 2; the\\nlatter are NOT linearly separable from each other.\\n\\n.. topic:: References\\n\\n   - Fisher, R.A. \"The use of multiple measurements in taxonomic problems\"\\n     Annual Eugenics, 7, Part II, 179-188 (1936); also in \"Contributions to\\n     Mathematical Statistics\" (John Wiley, NY, 1950).\\n   - Duda, R.O., & Hart, P.E. (1973) Pattern Classification and Scene Analysis.\\n     (Q327.D83) John Wiley & Sons.  ISBN 0-471-22361-1.  See page 218.\\n   - Dasarathy, B.V. (1980) \"Nosing Around the Neighborhood: A New System\\n     Structure and Classification Rule for Recognition in Partially Exposed\\n     Environments\".  IEEE Transactions on Pattern Analysis and Machine\\n     Intelligence, Vol. PAMI-2, No. 1, 67-71.\\n   - Gates, G.W. (1972) \"The Reduced Nearest Neighbor Rule\".  IEEE Transactions\\n     on Information Theory, May 1972, 431-433.\\n   - See also: 1988 MLC Proceedings, 54-64.  Cheeseman et al\"s AUTOCLASS II\\n     conceptual clustering system finds 3 classes in the data.\\n   - Many, many more ...',\n",
       "  'feature_names': ['sepal length (cm)',\n",
       "   'sepal width (cm)',\n",
       "   'petal length (cm)',\n",
       "   'petal width (cm)'],\n",
       "  'filename': 'iris.csv',\n",
       "  'data_module': 'sklearn.datasets.data'},\n",
       " sklearn.utils.Bunch)"
      ]
     },
     "execution_count": 1,
     "metadata": {},
     "output_type": "execute_result"
    }
   ],
   "source": [
    "from sklearn.datasets import load_iris # 붓꽃 품종 데이터, 다중 분류\n",
    "iris = load_iris()\n",
    "iris, type(iris)"
   ]
  },
  {
   "cell_type": "markdown",
   "id": "3543a7d7",
   "metadata": {},
   "source": [
    "seaborn에서 iris 불러오기"
   ]
  },
  {
   "cell_type": "code",
   "execution_count": 2,
   "id": "1fdd571c",
   "metadata": {
    "scrolled": true
   },
   "outputs": [
    {
     "data": {
      "text/html": [
       "<div>\n",
       "<style scoped>\n",
       "    .dataframe tbody tr th:only-of-type {\n",
       "        vertical-align: middle;\n",
       "    }\n",
       "\n",
       "    .dataframe tbody tr th {\n",
       "        vertical-align: top;\n",
       "    }\n",
       "\n",
       "    .dataframe thead th {\n",
       "        text-align: right;\n",
       "    }\n",
       "</style>\n",
       "<table border=\"1\" class=\"dataframe\">\n",
       "  <thead>\n",
       "    <tr style=\"text-align: right;\">\n",
       "      <th></th>\n",
       "      <th>sepal_length</th>\n",
       "      <th>sepal_width</th>\n",
       "      <th>petal_length</th>\n",
       "      <th>petal_width</th>\n",
       "      <th>species</th>\n",
       "    </tr>\n",
       "  </thead>\n",
       "  <tbody>\n",
       "    <tr>\n",
       "      <th>0</th>\n",
       "      <td>5.1</td>\n",
       "      <td>3.5</td>\n",
       "      <td>1.4</td>\n",
       "      <td>0.2</td>\n",
       "      <td>setosa</td>\n",
       "    </tr>\n",
       "    <tr>\n",
       "      <th>1</th>\n",
       "      <td>4.9</td>\n",
       "      <td>3.0</td>\n",
       "      <td>1.4</td>\n",
       "      <td>0.2</td>\n",
       "      <td>setosa</td>\n",
       "    </tr>\n",
       "    <tr>\n",
       "      <th>2</th>\n",
       "      <td>4.7</td>\n",
       "      <td>3.2</td>\n",
       "      <td>1.3</td>\n",
       "      <td>0.2</td>\n",
       "      <td>setosa</td>\n",
       "    </tr>\n",
       "    <tr>\n",
       "      <th>3</th>\n",
       "      <td>4.6</td>\n",
       "      <td>3.1</td>\n",
       "      <td>1.5</td>\n",
       "      <td>0.2</td>\n",
       "      <td>setosa</td>\n",
       "    </tr>\n",
       "    <tr>\n",
       "      <th>4</th>\n",
       "      <td>5.0</td>\n",
       "      <td>3.6</td>\n",
       "      <td>1.4</td>\n",
       "      <td>0.2</td>\n",
       "      <td>setosa</td>\n",
       "    </tr>\n",
       "    <tr>\n",
       "      <th>...</th>\n",
       "      <td>...</td>\n",
       "      <td>...</td>\n",
       "      <td>...</td>\n",
       "      <td>...</td>\n",
       "      <td>...</td>\n",
       "    </tr>\n",
       "    <tr>\n",
       "      <th>145</th>\n",
       "      <td>6.7</td>\n",
       "      <td>3.0</td>\n",
       "      <td>5.2</td>\n",
       "      <td>2.3</td>\n",
       "      <td>virginica</td>\n",
       "    </tr>\n",
       "    <tr>\n",
       "      <th>146</th>\n",
       "      <td>6.3</td>\n",
       "      <td>2.5</td>\n",
       "      <td>5.0</td>\n",
       "      <td>1.9</td>\n",
       "      <td>virginica</td>\n",
       "    </tr>\n",
       "    <tr>\n",
       "      <th>147</th>\n",
       "      <td>6.5</td>\n",
       "      <td>3.0</td>\n",
       "      <td>5.2</td>\n",
       "      <td>2.0</td>\n",
       "      <td>virginica</td>\n",
       "    </tr>\n",
       "    <tr>\n",
       "      <th>148</th>\n",
       "      <td>6.2</td>\n",
       "      <td>3.4</td>\n",
       "      <td>5.4</td>\n",
       "      <td>2.3</td>\n",
       "      <td>virginica</td>\n",
       "    </tr>\n",
       "    <tr>\n",
       "      <th>149</th>\n",
       "      <td>5.9</td>\n",
       "      <td>3.0</td>\n",
       "      <td>5.1</td>\n",
       "      <td>1.8</td>\n",
       "      <td>virginica</td>\n",
       "    </tr>\n",
       "  </tbody>\n",
       "</table>\n",
       "<p>150 rows × 5 columns</p>\n",
       "</div>"
      ],
      "text/plain": [
       "     sepal_length  sepal_width  petal_length  petal_width    species\n",
       "0             5.1          3.5           1.4          0.2     setosa\n",
       "1             4.9          3.0           1.4          0.2     setosa\n",
       "2             4.7          3.2           1.3          0.2     setosa\n",
       "3             4.6          3.1           1.5          0.2     setosa\n",
       "4             5.0          3.6           1.4          0.2     setosa\n",
       "..            ...          ...           ...          ...        ...\n",
       "145           6.7          3.0           5.2          2.3  virginica\n",
       "146           6.3          2.5           5.0          1.9  virginica\n",
       "147           6.5          3.0           5.2          2.0  virginica\n",
       "148           6.2          3.4           5.4          2.3  virginica\n",
       "149           5.9          3.0           5.1          1.8  virginica\n",
       "\n",
       "[150 rows x 5 columns]"
      ]
     },
     "execution_count": 2,
     "metadata": {},
     "output_type": "execute_result"
    }
   ],
   "source": [
    "import seaborn as sns\n",
    "iris2 = sns.load_dataset('iris')\n",
    "iris2\n",
    "# index, ~colum~, value\n",
    "# species를 빼야 learning이 되겠죠?"
   ]
  },
  {
   "cell_type": "code",
   "execution_count": 5,
   "id": "f808e2d0",
   "metadata": {},
   "outputs": [
    {
     "data": {
      "text/plain": [
       "(pandas.core.frame.DataFrame,\n",
       " Index(['sepal_length', 'sepal_width', 'petal_length', 'petal_width',\n",
       "        'species'],\n",
       "       dtype='object'))"
      ]
     },
     "execution_count": 5,
     "metadata": {},
     "output_type": "execute_result"
    }
   ],
   "source": [
    "type(iris2), iris2.keys()"
   ]
  },
  {
   "cell_type": "code",
   "execution_count": 4,
   "id": "4b13169e",
   "metadata": {},
   "outputs": [
    {
     "data": {
      "text/plain": [
       "(numpy.ndarray,\n",
       " array([[5.1, 3.5, 1.4, 0.2],\n",
       "        [4.9, 3. , 1.4, 0.2],\n",
       "        [4.7, 3.2, 1.3, 0.2],\n",
       "        [4.6, 3.1, 1.5, 0.2],\n",
       "        [5. , 3.6, 1.4, 0.2]]),\n",
       " (150, 4),\n",
       " ['sepal length (cm)',\n",
       "  'sepal width (cm)',\n",
       "  'petal length (cm)',\n",
       "  'petal width (cm)'])"
      ]
     },
     "execution_count": 4,
     "metadata": {},
     "output_type": "execute_result"
    }
   ],
   "source": [
    "type(iris.data), iris.data[:5], iris.data.shape, iris.feature_names # column"
   ]
  },
  {
   "cell_type": "code",
   "execution_count": 6,
   "id": "2b012067",
   "metadata": {},
   "outputs": [
    {
     "data": {
      "text/plain": [
       "(numpy.ndarray, array([0, 0, 0, 0, 0]), (150,))"
      ]
     },
     "execution_count": 6,
     "metadata": {},
     "output_type": "execute_result"
    }
   ],
   "source": [
    "type(iris.target), iris.target[:5], iris.target.shape # row"
   ]
  },
  {
   "cell_type": "markdown",
   "id": "a6a14709",
   "metadata": {},
   "source": [
    "# p.20 데이터 분할"
   ]
  },
  {
   "cell_type": "code",
   "execution_count": 7,
   "id": "f4714211",
   "metadata": {},
   "outputs": [
    {
     "name": "stdout",
     "output_type": "stream",
     "text": [
      "[7 4 0 8 1 9 3]\n",
      "[6 5 2]\n"
     ]
    }
   ],
   "source": [
    "import numpy as np\n",
    "from sklearn.model_selection import train_test_split\n",
    "\n",
    "x = np.arange(10)\n",
    "\n",
    "x_train, x_test = train_test_split(x) # 훈련, 평가용 데이터 분리\n",
    "print(x_train)\n",
    "print(x_test)"
   ]
  },
  {
   "cell_type": "code",
   "execution_count": 8,
   "id": "2748f74b",
   "metadata": {},
   "outputs": [
    {
     "data": {
      "text/plain": [
       "((105, 4), (45, 4), (105,), (45,))"
      ]
     },
     "execution_count": 8,
     "metadata": {},
     "output_type": "execute_result"
    }
   ],
   "source": [
    "x_tr, x_te, y_tr, y_te = train_test_split(\n",
    "    iris.data, #입력 2D\n",
    "    iris.target, #답, 1D\n",
    "    test_size=0.3, # 평가데이터 비율\n",
    "    random_state=100 )#난수 생성 시드\n",
    "\n",
    "    # iris['data'], iris['target'] 해도 됨!\n",
    "    \n",
    "x_tr.shape, x_te.shape, y_tr.shape, y_te.shape\n",
    "# 0.7, 0.3, 0.7 , 0.3"
   ]
  },
  {
   "cell_type": "code",
   "execution_count": 9,
   "id": "f62fcc0d",
   "metadata": {
    "scrolled": false
   },
   "outputs": [
    {
     "data": {
      "text/plain": [
       "(array([[4.6, 3.4, 1.4, 0.3],\n",
       "        [5. , 3. , 1.6, 0.2],\n",
       "        [5.1, 3.7, 1.5, 0.4],\n",
       "        [5.8, 2.6, 4. , 1.2],\n",
       "        [4.9, 3.1, 1.5, 0.1]]),\n",
       " array([0, 0, 0, 1, 0]))"
      ]
     },
     "execution_count": 9,
     "metadata": {},
     "output_type": "execute_result"
    }
   ],
   "source": [
    "x_tr[:5], y_tr[:5] # 이거 똑같이 안나오면 큰 일"
   ]
  },
  {
   "cell_type": "code",
   "execution_count": 10,
   "id": "cdebd866",
   "metadata": {},
   "outputs": [
    {
     "data": {
      "text/plain": [
       "(array([[6.4, 2.8, 5.6, 2.1],\n",
       "        [4.8, 3.4, 1.6, 0.2]]),\n",
       " array([2, 0]))"
      ]
     },
     "execution_count": 10,
     "metadata": {},
     "output_type": "execute_result"
    }
   ],
   "source": [
    "x_te[0:2], y_te[0:2] # test 결과"
   ]
  },
  {
   "cell_type": "code",
   "execution_count": 11,
   "id": "189cc4c2",
   "metadata": {},
   "outputs": [
    {
     "data": {
      "text/plain": [
       "(array([[6.4, 2.8, 5.6, 2.1],\n",
       "        [4.8, 3.4, 1.6, 0.2],\n",
       "        [7.7, 2.6, 6.9, 2.3],\n",
       "        [5.7, 4.4, 1.5, 0.4],\n",
       "        [6.3, 2.7, 4.9, 1.8]]),\n",
       " array([2, 0, 2, 0, 2]))"
      ]
     },
     "execution_count": 11,
     "metadata": {},
     "output_type": "execute_result"
    }
   ],
   "source": [
    "x_te[:5], y_te[:5]"
   ]
  },
  {
   "cell_type": "markdown",
   "id": "980a0387",
   "metadata": {},
   "source": [
    "# p.22 K-NN  \n",
    "최근접 알고리즘  \n",
    "--> 각 데이터 간 유클리드 거리 계산(고딩 때 했던 점 거리 계산식), \n",
    "    가장 가까운 K개로 묶어주기!"
   ]
  },
  {
   "cell_type": "markdown",
   "id": "1ec054d4",
   "metadata": {},
   "source": [
    "# p.25 모델, 평가\n",
    "    분류 모델 : KNeighborsClassifier\n",
    "    회귀 모델 : KNeighborsRegressor"
   ]
  },
  {
   "cell_type": "code",
   "execution_count": 12,
   "id": "aece22b0",
   "metadata": {},
   "outputs": [
    {
     "name": "stdout",
     "output_type": "stream",
     "text": [
      "예측값 :  [2 0 2 0 2 2 0 0 2 0 0 2 0 0 2 1 1 1 2 2 2 0 2 0 1 2 1 0 1 2 1 1 1 0 0 1 0\n",
      " 1 2 2 0 1 2 2 0]\n",
      "실제답 :  [2 0 2 0 2 2 0 0 2 0 0 2 0 0 2 1 1 1 2 2 2 0 2 0 1 2 1 0 1 2 1 1 2 0 0 1 0\n",
      " 1 2 2 0 1 2 2 0]\n",
      "[ True  True  True  True  True  True  True  True  True  True  True  True\n",
      "  True  True  True  True  True  True  True  True  True  True  True  True\n",
      "  True  True  True  True  True  True  True  True False  True  True  True\n",
      "  True  True  True  True  True  True  True  True  True]\n",
      "0.9777777777777777\n"
     ]
    }
   ],
   "source": [
    "from sklearn.neighbors import KNeighborsClassifier\n",
    "\n",
    "model = KNeighborsClassifier(n_neighbors=3) # k-nn의 k, 조절 가능!\n",
    "model.fit(x_tr, y_tr) # 훈련 코드\n",
    "\n",
    "# 값 예측 출력, 입력값(반드시 2D!) 에 대한 예측값 출력\n",
    "model.predict([[6.4, 2.8, 5.6, 2.1]]) # 예시 입력값 = x_te[0] => 출력값 = y_te[0]\n",
    "\n",
    "print('예측값 : ', model.predict(x_te)) # 전체 test 예측\n",
    "print('실제답 : ', y_te)\n",
    "\n",
    "# 정확도 계산\n",
    "pred = model.predict(x_te)\n",
    "print( pred == y_te) # 내 답과 정답이 같아?\n",
    "print( sum(pred == y_te) / len(y_te)) # 몇개 중 몇개?"
   ]
  },
  {
   "cell_type": "code",
   "execution_count": 13,
   "id": "14974144",
   "metadata": {},
   "outputs": [
    {
     "name": "stdout",
     "output_type": "stream",
     "text": [
      "훈련 데이터 :  0.9619047619047619\n",
      "평가 데이터 :  0.9777777777777777\n"
     ]
    }
   ],
   "source": [
    "# 정확도 계산 (score)\n",
    "print('훈련 데이터 : ', model.score(x_tr, y_tr))\n",
    "print('평가 데이터 : ', model.score(x_te, y_te))\n",
    "\n",
    "# 훈련 데이터가 1이 안나오는 경우 있음!"
   ]
  },
  {
   "cell_type": "code",
   "execution_count": 14,
   "id": "bc442eff",
   "metadata": {
    "scrolled": true
   },
   "outputs": [
    {
     "data": {
      "text/html": [
       "<div>\n",
       "<style scoped>\n",
       "    .dataframe tbody tr th:only-of-type {\n",
       "        vertical-align: middle;\n",
       "    }\n",
       "\n",
       "    .dataframe tbody tr th {\n",
       "        vertical-align: top;\n",
       "    }\n",
       "\n",
       "    .dataframe thead th {\n",
       "        text-align: right;\n",
       "    }\n",
       "</style>\n",
       "<table border=\"1\" class=\"dataframe\">\n",
       "  <thead>\n",
       "    <tr style=\"text-align: right;\">\n",
       "      <th></th>\n",
       "      <th>sepal_length</th>\n",
       "      <th>sepal_width</th>\n",
       "      <th>petal_length</th>\n",
       "      <th>petal_width</th>\n",
       "      <th>species</th>\n",
       "    </tr>\n",
       "  </thead>\n",
       "  <tbody>\n",
       "    <tr>\n",
       "      <th>0</th>\n",
       "      <td>5.1</td>\n",
       "      <td>3.5</td>\n",
       "      <td>1.4</td>\n",
       "      <td>0.2</td>\n",
       "      <td>setosa</td>\n",
       "    </tr>\n",
       "    <tr>\n",
       "      <th>1</th>\n",
       "      <td>4.9</td>\n",
       "      <td>3.0</td>\n",
       "      <td>1.4</td>\n",
       "      <td>0.2</td>\n",
       "      <td>setosa</td>\n",
       "    </tr>\n",
       "    <tr>\n",
       "      <th>2</th>\n",
       "      <td>4.7</td>\n",
       "      <td>3.2</td>\n",
       "      <td>1.3</td>\n",
       "      <td>0.2</td>\n",
       "      <td>setosa</td>\n",
       "    </tr>\n",
       "    <tr>\n",
       "      <th>3</th>\n",
       "      <td>4.6</td>\n",
       "      <td>3.1</td>\n",
       "      <td>1.5</td>\n",
       "      <td>0.2</td>\n",
       "      <td>setosa</td>\n",
       "    </tr>\n",
       "    <tr>\n",
       "      <th>4</th>\n",
       "      <td>5.0</td>\n",
       "      <td>3.6</td>\n",
       "      <td>1.4</td>\n",
       "      <td>0.2</td>\n",
       "      <td>setosa</td>\n",
       "    </tr>\n",
       "    <tr>\n",
       "      <th>...</th>\n",
       "      <td>...</td>\n",
       "      <td>...</td>\n",
       "      <td>...</td>\n",
       "      <td>...</td>\n",
       "      <td>...</td>\n",
       "    </tr>\n",
       "    <tr>\n",
       "      <th>145</th>\n",
       "      <td>6.7</td>\n",
       "      <td>3.0</td>\n",
       "      <td>5.2</td>\n",
       "      <td>2.3</td>\n",
       "      <td>virginica</td>\n",
       "    </tr>\n",
       "    <tr>\n",
       "      <th>146</th>\n",
       "      <td>6.3</td>\n",
       "      <td>2.5</td>\n",
       "      <td>5.0</td>\n",
       "      <td>1.9</td>\n",
       "      <td>virginica</td>\n",
       "    </tr>\n",
       "    <tr>\n",
       "      <th>147</th>\n",
       "      <td>6.5</td>\n",
       "      <td>3.0</td>\n",
       "      <td>5.2</td>\n",
       "      <td>2.0</td>\n",
       "      <td>virginica</td>\n",
       "    </tr>\n",
       "    <tr>\n",
       "      <th>148</th>\n",
       "      <td>6.2</td>\n",
       "      <td>3.4</td>\n",
       "      <td>5.4</td>\n",
       "      <td>2.3</td>\n",
       "      <td>virginica</td>\n",
       "    </tr>\n",
       "    <tr>\n",
       "      <th>149</th>\n",
       "      <td>5.9</td>\n",
       "      <td>3.0</td>\n",
       "      <td>5.1</td>\n",
       "      <td>1.8</td>\n",
       "      <td>virginica</td>\n",
       "    </tr>\n",
       "  </tbody>\n",
       "</table>\n",
       "<p>150 rows × 5 columns</p>\n",
       "</div>"
      ],
      "text/plain": [
       "     sepal_length  sepal_width  petal_length  petal_width    species\n",
       "0             5.1          3.5           1.4          0.2     setosa\n",
       "1             4.9          3.0           1.4          0.2     setosa\n",
       "2             4.7          3.2           1.3          0.2     setosa\n",
       "3             4.6          3.1           1.5          0.2     setosa\n",
       "4             5.0          3.6           1.4          0.2     setosa\n",
       "..            ...          ...           ...          ...        ...\n",
       "145           6.7          3.0           5.2          2.3  virginica\n",
       "146           6.3          2.5           5.0          1.9  virginica\n",
       "147           6.5          3.0           5.2          2.0  virginica\n",
       "148           6.2          3.4           5.4          2.3  virginica\n",
       "149           5.9          3.0           5.1          1.8  virginica\n",
       "\n",
       "[150 rows x 5 columns]"
      ]
     },
     "execution_count": 14,
     "metadata": {},
     "output_type": "execute_result"
    }
   ],
   "source": [
    "iris2"
   ]
  },
  {
   "cell_type": "code",
   "execution_count": 15,
   "id": "0575d78f",
   "metadata": {
    "scrolled": true
   },
   "outputs": [
    {
     "data": {
      "text/plain": [
       "(     sepal_length  sepal_width  petal_length  petal_width\n",
       " 0             5.1          3.5           1.4          0.2\n",
       " 1             4.9          3.0           1.4          0.2\n",
       " 2             4.7          3.2           1.3          0.2\n",
       " 3             4.6          3.1           1.5          0.2\n",
       " 4             5.0          3.6           1.4          0.2\n",
       " ..            ...          ...           ...          ...\n",
       " 145           6.7          3.0           5.2          2.3\n",
       " 146           6.3          2.5           5.0          1.9\n",
       " 147           6.5          3.0           5.2          2.0\n",
       " 148           6.2          3.4           5.4          2.3\n",
       " 149           5.9          3.0           5.1          1.8\n",
       " \n",
       " [150 rows x 4 columns],\n",
       " 0         setosa\n",
       " 1         setosa\n",
       " 2         setosa\n",
       " 3         setosa\n",
       " 4         setosa\n",
       "          ...    \n",
       " 145    virginica\n",
       " 146    virginica\n",
       " 147    virginica\n",
       " 148    virginica\n",
       " 149    virginica\n",
       " Name: species, Length: 150, dtype: object)"
      ]
     },
     "execution_count": 15,
     "metadata": {},
     "output_type": "execute_result"
    }
   ],
   "source": [
    "x = iris2.drop(columns=['species']) # 정답 삭제된 입력값\n",
    "y = iris2['species'] # label\n",
    "x,y"
   ]
  },
  {
   "cell_type": "code",
   "execution_count": 16,
   "id": "998c24a0",
   "metadata": {},
   "outputs": [
    {
     "data": {
      "text/plain": [
       "((105, 4), (45, 4), (105,), (45,))"
      ]
     },
     "execution_count": 16,
     "metadata": {},
     "output_type": "execute_result"
    }
   ],
   "source": [
    "x_tr, x_te, y_tr, y_te = train_test_split( # 7:3\n",
    "    iris.data, #입력 2D\n",
    "    iris.target, #답, 1D\n",
    "    test_size=0.3, # 평가데이터 비율\n",
    "    random_state=100 )#난수 생성 시드\n",
    "\n",
    "x_tr.shape, x_te.shape, y_tr.shape, y_te.shape"
   ]
  },
  {
   "cell_type": "code",
   "execution_count": 17,
   "id": "6bd523a9",
   "metadata": {},
   "outputs": [
    {
     "name": "stdout",
     "output_type": "stream",
     "text": [
      "훈련 데이터 :  1.0\n",
      "평가 데이터 :  0.9777777777777777\n"
     ]
    }
   ],
   "source": [
    "model = KNeighborsClassifier(n_neighbors=1) # k-nn의 k, 조절 가능!\n",
    "model.fit(x_tr, y_tr) # 훈련 코드\n",
    "\n",
    "print('훈련 데이터 : ', model.score(x_tr, y_tr))\n",
    "print('평가 데이터 : ', model.score(x_te, y_te))"
   ]
  },
  {
   "cell_type": "markdown",
   "id": "999f06c3",
   "metadata": {},
   "source": [
    "## fish.csv를 읽고 KNN으로 훈련, 성능평가점수 출력"
   ]
  },
  {
   "cell_type": "code",
   "execution_count": 20,
   "id": "72732579",
   "metadata": {
    "scrolled": false
   },
   "outputs": [
    {
     "data": {
      "text/html": [
       "<div>\n",
       "<style scoped>\n",
       "    .dataframe tbody tr th:only-of-type {\n",
       "        vertical-align: middle;\n",
       "    }\n",
       "\n",
       "    .dataframe tbody tr th {\n",
       "        vertical-align: top;\n",
       "    }\n",
       "\n",
       "    .dataframe thead th {\n",
       "        text-align: right;\n",
       "    }\n",
       "</style>\n",
       "<table border=\"1\" class=\"dataframe\">\n",
       "  <thead>\n",
       "    <tr style=\"text-align: right;\">\n",
       "      <th></th>\n",
       "      <th>Species</th>\n",
       "      <th>Weight</th>\n",
       "      <th>Length</th>\n",
       "      <th>Diagonal</th>\n",
       "      <th>Height</th>\n",
       "      <th>Width</th>\n",
       "    </tr>\n",
       "  </thead>\n",
       "  <tbody>\n",
       "    <tr>\n",
       "      <th>0</th>\n",
       "      <td>Bream</td>\n",
       "      <td>242.0</td>\n",
       "      <td>25.4</td>\n",
       "      <td>30.0</td>\n",
       "      <td>11.5200</td>\n",
       "      <td>4.0200</td>\n",
       "    </tr>\n",
       "    <tr>\n",
       "      <th>1</th>\n",
       "      <td>Bream</td>\n",
       "      <td>290.0</td>\n",
       "      <td>26.3</td>\n",
       "      <td>31.2</td>\n",
       "      <td>12.4800</td>\n",
       "      <td>4.3056</td>\n",
       "    </tr>\n",
       "    <tr>\n",
       "      <th>2</th>\n",
       "      <td>Bream</td>\n",
       "      <td>340.0</td>\n",
       "      <td>26.5</td>\n",
       "      <td>31.1</td>\n",
       "      <td>12.3778</td>\n",
       "      <td>4.6961</td>\n",
       "    </tr>\n",
       "    <tr>\n",
       "      <th>3</th>\n",
       "      <td>Bream</td>\n",
       "      <td>363.0</td>\n",
       "      <td>29.0</td>\n",
       "      <td>33.5</td>\n",
       "      <td>12.7300</td>\n",
       "      <td>4.4555</td>\n",
       "    </tr>\n",
       "    <tr>\n",
       "      <th>4</th>\n",
       "      <td>Bream</td>\n",
       "      <td>430.0</td>\n",
       "      <td>29.0</td>\n",
       "      <td>34.0</td>\n",
       "      <td>12.4440</td>\n",
       "      <td>5.1340</td>\n",
       "    </tr>\n",
       "    <tr>\n",
       "      <th>...</th>\n",
       "      <td>...</td>\n",
       "      <td>...</td>\n",
       "      <td>...</td>\n",
       "      <td>...</td>\n",
       "      <td>...</td>\n",
       "      <td>...</td>\n",
       "    </tr>\n",
       "    <tr>\n",
       "      <th>154</th>\n",
       "      <td>Smelt</td>\n",
       "      <td>12.2</td>\n",
       "      <td>12.2</td>\n",
       "      <td>13.4</td>\n",
       "      <td>2.0904</td>\n",
       "      <td>1.3936</td>\n",
       "    </tr>\n",
       "    <tr>\n",
       "      <th>155</th>\n",
       "      <td>Smelt</td>\n",
       "      <td>13.4</td>\n",
       "      <td>12.4</td>\n",
       "      <td>13.5</td>\n",
       "      <td>2.4300</td>\n",
       "      <td>1.2690</td>\n",
       "    </tr>\n",
       "    <tr>\n",
       "      <th>156</th>\n",
       "      <td>Smelt</td>\n",
       "      <td>12.2</td>\n",
       "      <td>13.0</td>\n",
       "      <td>13.8</td>\n",
       "      <td>2.2770</td>\n",
       "      <td>1.2558</td>\n",
       "    </tr>\n",
       "    <tr>\n",
       "      <th>157</th>\n",
       "      <td>Smelt</td>\n",
       "      <td>19.7</td>\n",
       "      <td>14.3</td>\n",
       "      <td>15.2</td>\n",
       "      <td>2.8728</td>\n",
       "      <td>2.0672</td>\n",
       "    </tr>\n",
       "    <tr>\n",
       "      <th>158</th>\n",
       "      <td>Smelt</td>\n",
       "      <td>19.9</td>\n",
       "      <td>15.0</td>\n",
       "      <td>16.2</td>\n",
       "      <td>2.9322</td>\n",
       "      <td>1.8792</td>\n",
       "    </tr>\n",
       "  </tbody>\n",
       "</table>\n",
       "<p>159 rows × 6 columns</p>\n",
       "</div>"
      ],
      "text/plain": [
       "    Species  Weight  Length  Diagonal   Height   Width\n",
       "0     Bream   242.0    25.4      30.0  11.5200  4.0200\n",
       "1     Bream   290.0    26.3      31.2  12.4800  4.3056\n",
       "2     Bream   340.0    26.5      31.1  12.3778  4.6961\n",
       "3     Bream   363.0    29.0      33.5  12.7300  4.4555\n",
       "4     Bream   430.0    29.0      34.0  12.4440  5.1340\n",
       "..      ...     ...     ...       ...      ...     ...\n",
       "154   Smelt    12.2    12.2      13.4   2.0904  1.3936\n",
       "155   Smelt    13.4    12.4      13.5   2.4300  1.2690\n",
       "156   Smelt    12.2    13.0      13.8   2.2770  1.2558\n",
       "157   Smelt    19.7    14.3      15.2   2.8728  2.0672\n",
       "158   Smelt    19.9    15.0      16.2   2.9322  1.8792\n",
       "\n",
       "[159 rows x 6 columns]"
      ]
     },
     "execution_count": 20,
     "metadata": {},
     "output_type": "execute_result"
    }
   ],
   "source": [
    "import seaborn as sns\n",
    "import pandas as pd\n",
    "fish = pd.read_csv('./data/fish.csv')\n",
    "fish"
   ]
  },
  {
   "cell_type": "code",
   "execution_count": 23,
   "id": "b75ff183",
   "metadata": {},
   "outputs": [],
   "source": [
    "x = fish.drop(columns=['Species']) # 정답 삭제된 입력값\n",
    "y = fish['Species'] # label"
   ]
  },
  {
   "cell_type": "code",
   "execution_count": 25,
   "id": "aa236ae4",
   "metadata": {},
   "outputs": [
    {
     "name": "stdout",
     "output_type": "stream",
     "text": [
      "훈련 데이터 :  0.7657657657657657\n",
      "평가 데이터 :  0.5208333333333334\n"
     ]
    }
   ],
   "source": [
    "from sklearn.neighbors import KNeighborsClassifier\n",
    "\n",
    "x_tr, x_te, y_tr, y_te = train_test_split(\n",
    "    x,\n",
    "    y,\n",
    "    test_size=0.3, # 평가데이터 비율\n",
    "    random_state=100 )#난수 생성 시드\n",
    "\n",
    "x_tr.shape, x_te.shape, y_tr.shape, y_te.shape\n",
    "\n",
    "model = KNeighborsClassifier(n_neighbors=3) # k-nn의 k, 조절 가능!\n",
    "model.fit(x_tr, y_tr) # 훈련 코드\n",
    "\n",
    "print('훈련 데이터 : ', model.score(x_tr, y_tr))\n",
    "print('평가 데이터 : ', model.score(x_te, y_te))"
   ]
  },
  {
   "cell_type": "code",
   "execution_count": 31,
   "id": "be30416e",
   "metadata": {},
   "outputs": [
    {
     "data": {
      "text/plain": [
       "Perch        40\n",
       "Bream        23\n",
       "Roach        13\n",
       "Pike         12\n",
       "Smelt         9\n",
       "Parkki        9\n",
       "Whitefish     5\n",
       "Name: Species, dtype: int64"
      ]
     },
     "execution_count": 31,
     "metadata": {},
     "output_type": "execute_result"
    }
   ],
   "source": [
    "y_tr.value_counts() # "
   ]
  },
  {
   "cell_type": "code",
   "execution_count": null,
   "id": "64519619",
   "metadata": {},
   "outputs": [],
   "source": [
    "/ fish[\"Species\"].value_count()"
   ]
  },
  {
   "cell_type": "code",
   "execution_count": null,
   "id": "f13c2006",
   "metadata": {},
   "outputs": [],
   "source": []
  },
  {
   "cell_type": "code",
   "execution_count": 32,
   "id": "ac9ac679",
   "metadata": {
    "scrolled": false
   },
   "outputs": [
    {
     "data": {
      "text/html": [
       "<div>\n",
       "<style scoped>\n",
       "    .dataframe tbody tr th:only-of-type {\n",
       "        vertical-align: middle;\n",
       "    }\n",
       "\n",
       "    .dataframe tbody tr th {\n",
       "        vertical-align: top;\n",
       "    }\n",
       "\n",
       "    .dataframe thead th {\n",
       "        text-align: right;\n",
       "    }\n",
       "</style>\n",
       "<table border=\"1\" class=\"dataframe\">\n",
       "  <thead>\n",
       "    <tr style=\"text-align: right;\">\n",
       "      <th></th>\n",
       "      <th>sepal_length</th>\n",
       "      <th>sepal_width</th>\n",
       "      <th>petal_length</th>\n",
       "      <th>petal_width</th>\n",
       "      <th>species</th>\n",
       "    </tr>\n",
       "  </thead>\n",
       "  <tbody>\n",
       "    <tr>\n",
       "      <th>0</th>\n",
       "      <td>5.1</td>\n",
       "      <td>3.5</td>\n",
       "      <td>1.4</td>\n",
       "      <td>0.2</td>\n",
       "      <td>setosa</td>\n",
       "    </tr>\n",
       "    <tr>\n",
       "      <th>1</th>\n",
       "      <td>4.9</td>\n",
       "      <td>3.0</td>\n",
       "      <td>1.4</td>\n",
       "      <td>0.2</td>\n",
       "      <td>setosa</td>\n",
       "    </tr>\n",
       "    <tr>\n",
       "      <th>2</th>\n",
       "      <td>4.7</td>\n",
       "      <td>3.2</td>\n",
       "      <td>1.3</td>\n",
       "      <td>0.2</td>\n",
       "      <td>setosa</td>\n",
       "    </tr>\n",
       "    <tr>\n",
       "      <th>3</th>\n",
       "      <td>4.6</td>\n",
       "      <td>3.1</td>\n",
       "      <td>1.5</td>\n",
       "      <td>0.2</td>\n",
       "      <td>setosa</td>\n",
       "    </tr>\n",
       "    <tr>\n",
       "      <th>4</th>\n",
       "      <td>5.0</td>\n",
       "      <td>3.6</td>\n",
       "      <td>1.4</td>\n",
       "      <td>0.2</td>\n",
       "      <td>setosa</td>\n",
       "    </tr>\n",
       "    <tr>\n",
       "      <th>...</th>\n",
       "      <td>...</td>\n",
       "      <td>...</td>\n",
       "      <td>...</td>\n",
       "      <td>...</td>\n",
       "      <td>...</td>\n",
       "    </tr>\n",
       "    <tr>\n",
       "      <th>145</th>\n",
       "      <td>6.7</td>\n",
       "      <td>3.0</td>\n",
       "      <td>5.2</td>\n",
       "      <td>2.3</td>\n",
       "      <td>virginica</td>\n",
       "    </tr>\n",
       "    <tr>\n",
       "      <th>146</th>\n",
       "      <td>6.3</td>\n",
       "      <td>2.5</td>\n",
       "      <td>5.0</td>\n",
       "      <td>1.9</td>\n",
       "      <td>virginica</td>\n",
       "    </tr>\n",
       "    <tr>\n",
       "      <th>147</th>\n",
       "      <td>6.5</td>\n",
       "      <td>3.0</td>\n",
       "      <td>5.2</td>\n",
       "      <td>2.0</td>\n",
       "      <td>virginica</td>\n",
       "    </tr>\n",
       "    <tr>\n",
       "      <th>148</th>\n",
       "      <td>6.2</td>\n",
       "      <td>3.4</td>\n",
       "      <td>5.4</td>\n",
       "      <td>2.3</td>\n",
       "      <td>virginica</td>\n",
       "    </tr>\n",
       "    <tr>\n",
       "      <th>149</th>\n",
       "      <td>5.9</td>\n",
       "      <td>3.0</td>\n",
       "      <td>5.1</td>\n",
       "      <td>1.8</td>\n",
       "      <td>virginica</td>\n",
       "    </tr>\n",
       "  </tbody>\n",
       "</table>\n",
       "<p>150 rows × 5 columns</p>\n",
       "</div>"
      ],
      "text/plain": [
       "     sepal_length  sepal_width  petal_length  petal_width    species\n",
       "0             5.1          3.5           1.4          0.2     setosa\n",
       "1             4.9          3.0           1.4          0.2     setosa\n",
       "2             4.7          3.2           1.3          0.2     setosa\n",
       "3             4.6          3.1           1.5          0.2     setosa\n",
       "4             5.0          3.6           1.4          0.2     setosa\n",
       "..            ...          ...           ...          ...        ...\n",
       "145           6.7          3.0           5.2          2.3  virginica\n",
       "146           6.3          2.5           5.0          1.9  virginica\n",
       "147           6.5          3.0           5.2          2.0  virginica\n",
       "148           6.2          3.4           5.4          2.3  virginica\n",
       "149           5.9          3.0           5.1          1.8  virginica\n",
       "\n",
       "[150 rows x 5 columns]"
      ]
     },
     "execution_count": 32,
     "metadata": {},
     "output_type": "execute_result"
    }
   ],
   "source": [
    "# 데이터 프레임으로 모델 평가하기\n",
    "# seaborn에서 iris 불러오기\n",
    "import seaborn as sns\n",
    "iris2 = sns.load_dataset('iris')\n",
    "iris2\n",
    "\n",
    "x =\n",
    "y =\n",
    "\n",
    "\n",
    "from sklearn.model_selection import train_test_split\n",
    "x_tr, x_te, y_tr, y_te = train_test_split(\n",
    "    x,\n",
    "    y,\n",
    "    test_size=0.3, # 평가데이터 비율\n",
    "    random_state=100 )#난수 생성 시드\n",
    "    \n",
    ")\n",
    "\n",
    "from sklearn.neighbors import KNeighborsClassifier\n",
    "model = KNeighborsClassifier(n_neighbors=3)\n",
    "model.fit(x_tr, y_tr)\n",
    "\n",
    "k_range = range(1, 11)"
   ]
  },
  {
   "cell_type": "code",
   "execution_count": null,
   "id": "082ae007",
   "metadata": {},
   "outputs": [],
   "source": []
  },
  {
   "cell_type": "code",
   "execution_count": null,
   "id": "ff0e2680",
   "metadata": {},
   "outputs": [],
   "source": []
  },
  {
   "cell_type": "code",
   "execution_count": null,
   "id": "7b0515c8",
   "metadata": {},
   "outputs": [],
   "source": []
  },
  {
   "cell_type": "code",
   "execution_count": null,
   "id": "e9eea953",
   "metadata": {},
   "outputs": [],
   "source": []
  },
  {
   "cell_type": "code",
   "execution_count": null,
   "id": "d7433ec7",
   "metadata": {},
   "outputs": [],
   "source": []
  },
  {
   "cell_type": "code",
   "execution_count": null,
   "id": "75b27365",
   "metadata": {},
   "outputs": [],
   "source": []
  }
 ],
 "metadata": {
  "kernelspec": {
   "display_name": "Python 3 (ipykernel)",
   "language": "python",
   "name": "python3"
  },
  "language_info": {
   "codemirror_mode": {
    "name": "ipython",
    "version": 3
   },
   "file_extension": ".py",
   "mimetype": "text/x-python",
   "name": "python",
   "nbconvert_exporter": "python",
   "pygments_lexer": "ipython3",
   "version": "3.9.12"
  },
  "toc": {
   "base_numbering": 1,
   "nav_menu": {},
   "number_sections": true,
   "sideBar": true,
   "skip_h1_title": false,
   "title_cell": "Table of Contents",
   "title_sidebar": "Contents",
   "toc_cell": false,
   "toc_position": {},
   "toc_section_display": true,
   "toc_window_display": false
  }
 },
 "nbformat": 4,
 "nbformat_minor": 5
}
